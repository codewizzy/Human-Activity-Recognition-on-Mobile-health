{
  "nbformat": 4,
  "nbformat_minor": 0,
  "metadata": {
    "colab": {
      "name": "Building_dataset.ipynb",
      "provenance": []
    },
    "kernelspec": {
      "name": "python3",
      "display_name": "Python 3"
    }
  },
  "cells": [
    {
      "cell_type": "code",
      "metadata": {
        "colab": {
          "base_uri": "https://localhost:8080/"
        },
        "id": "3ErzyvOw0qQR",
        "outputId": "3b778dde-5542-4a07-d5b7-10b753f5ca00"
      },
      "source": [
        "from google.colab import drive\r\n",
        "drive.mount('/content/drive')"
      ],
      "execution_count": 1,
      "outputs": [
        {
          "output_type": "stream",
          "text": [
            "Mounted at /content/drive\n"
          ],
          "name": "stdout"
        }
      ]
    },
    {
      "cell_type": "code",
      "metadata": {
        "id": "LC-pL7bi1Whc"
      },
      "source": [
        "#importing necessary libraries\r\n",
        "import os\r\n",
        "import numpy as np\r\n",
        "import tensorflow as tf\r\n",
        "from tensorflow import keras\r\n",
        "import pandas as pd\r\n",
        "import seaborn as sns\r\n",
        "from pylab import rcParams\r\n",
        "import matplotlib.pyplot as plt\r\n",
        "from matplotlib import rc\r\n",
        "from pandas.plotting import register_matplotlib_converters\r\n",
        "\r\n",
        "%matplotlib inline\r\n",
        "%config InlineBackend.figure_format='retina'\r\n",
        "\r\n",
        "register_matplotlib_converters()\r\n",
        "sns.set(style='whitegrid', palette='muted', font_scale=1.5)\r\n",
        "\r\n",
        "rcParams['figure.figsize'] = 22, 10\r\n",
        "\r\n",
        "RANDOM_SEED = 42\r\n",
        "\r\n",
        "np.random.seed(RANDOM_SEED)\r\n",
        "tf.random.set_seed(RANDOM_SEED)"
      ],
      "execution_count": 4,
      "outputs": []
    },
    {
      "cell_type": "code",
      "metadata": {
        "id": "VPj3taeYnhJb",
        "colab": {
          "base_uri": "https://localhost:8080/"
        },
        "outputId": "d4f1ebaa-9854-43e0-be6a-3c9866a0e78e"
      },
      "source": [
        "!wget http://archive.ics.uci.edu/ml/machine-learning-databases/00319/MHEALTHDATASET.zip\r\n",
        "!unzip MHEALTHDATASET.zip"
      ],
      "execution_count": 5,
      "outputs": [
        {
          "output_type": "stream",
          "text": [
            "--2021-03-10 11:10:38--  http://archive.ics.uci.edu/ml/machine-learning-databases/00319/MHEALTHDATASET.zip\n",
            "Resolving archive.ics.uci.edu (archive.ics.uci.edu)... 128.195.10.252\n",
            "Connecting to archive.ics.uci.edu (archive.ics.uci.edu)|128.195.10.252|:80... connected.\n",
            "HTTP request sent, awaiting response... 200 OK\n",
            "Length: 75567983 (72M) [application/x-httpd-php]\n",
            "Saving to: ‘MHEALTHDATASET.zip’\n",
            "\n",
            "MHEALTHDATASET.zip  100%[===================>]  72.07M  43.6MB/s    in 1.7s    \n",
            "\n",
            "2021-03-10 11:10:40 (43.6 MB/s) - ‘MHEALTHDATASET.zip’ saved [75567983/75567983]\n",
            "\n",
            "Archive:  MHEALTHDATASET.zip\n",
            "   creating: MHEALTHDATASET/\n",
            "  inflating: MHEALTHDATASET/mHealth_subject1.log  \n",
            "  inflating: MHEALTHDATASET/mHealth_subject10.log  \n",
            "  inflating: MHEALTHDATASET/mHealth_subject2.log  \n",
            "  inflating: MHEALTHDATASET/mHealth_subject3.log  \n",
            "  inflating: MHEALTHDATASET/mHealth_subject4.log  \n",
            "  inflating: MHEALTHDATASET/mHealth_subject5.log  \n",
            "  inflating: MHEALTHDATASET/mHealth_subject6.log  \n",
            "  inflating: MHEALTHDATASET/mHealth_subject7.log  \n",
            "  inflating: MHEALTHDATASET/mHealth_subject8.log  \n",
            "  inflating: MHEALTHDATASET/mHealth_subject9.log  \n",
            "  inflating: MHEALTHDATASET/README.txt  \n"
          ],
          "name": "stdout"
        }
      ]
    },
    {
      "cell_type": "code",
      "metadata": {
        "id": "bIuo9cxK1fo3"
      },
      "source": [
        "df = pd.DataFrame()\r\n",
        "#loop to combine all data\r\n",
        "for i in range(1,11):\r\n",
        "    df1 = pd.read_csv(f'MHEALTHDATASET/mHealth_subject{i}.log', header=None, sep='\\t')\r\n",
        "    df1 = df1.loc[:, [5,6,7,8,9,10,14,15,16,17,18,19, 23]]\r\n",
        "    df1 = df1.rename(columns={\r\n",
        "        5:\"alx\", 6:\"aly\", 7:\"alz\", 8:\"glx\", 9:\"gly\", 10:\"glz\", 14:\"arx\",15:\"ary\", 16:\"arz\", 17:\"grx\", 18:\"gry\", 19:\"grz\", 23:\"Activity\"\r\n",
        "        })\r\n",
        "    df1['subject'] = 'subject'+str(i)\r\n",
        "    df = pd.concat([df,df1])"
      ],
      "execution_count": 6,
      "outputs": []
    },
    {
      "cell_type": "code",
      "metadata": {
        "colab": {
          "base_uri": "https://localhost:8080/",
          "height": 402
        },
        "id": "kvxjbbnm10PE",
        "outputId": "ecdce410-5d8b-49b9-a772-7e92d6b6809f"
      },
      "source": [
        "df"
      ],
      "execution_count": null,
      "outputs": [
        {
          "output_type": "execute_result",
          "data": {
            "text/html": [
              "<div>\n",
              "<style scoped>\n",
              "    .dataframe tbody tr th:only-of-type {\n",
              "        vertical-align: middle;\n",
              "    }\n",
              "\n",
              "    .dataframe tbody tr th {\n",
              "        vertical-align: top;\n",
              "    }\n",
              "\n",
              "    .dataframe thead th {\n",
              "        text-align: right;\n",
              "    }\n",
              "</style>\n",
              "<table border=\"1\" class=\"dataframe\">\n",
              "  <thead>\n",
              "    <tr style=\"text-align: right;\">\n",
              "      <th></th>\n",
              "      <th>alx</th>\n",
              "      <th>aly</th>\n",
              "      <th>alz</th>\n",
              "      <th>glx</th>\n",
              "      <th>gly</th>\n",
              "      <th>glz</th>\n",
              "      <th>arx</th>\n",
              "      <th>ary</th>\n",
              "      <th>arz</th>\n",
              "      <th>grx</th>\n",
              "      <th>gry</th>\n",
              "      <th>grz</th>\n",
              "      <th>Activity</th>\n",
              "      <th>subject</th>\n",
              "    </tr>\n",
              "  </thead>\n",
              "  <tbody>\n",
              "    <tr>\n",
              "      <th>0</th>\n",
              "      <td>2.1849</td>\n",
              "      <td>-9.6967</td>\n",
              "      <td>0.63077</td>\n",
              "      <td>0.103900</td>\n",
              "      <td>-0.84053</td>\n",
              "      <td>-0.68762</td>\n",
              "      <td>-8.6499</td>\n",
              "      <td>-4.5781</td>\n",
              "      <td>0.187760</td>\n",
              "      <td>-0.449020</td>\n",
              "      <td>-1.01030</td>\n",
              "      <td>0.034483</td>\n",
              "      <td>0</td>\n",
              "      <td>subject1</td>\n",
              "    </tr>\n",
              "    <tr>\n",
              "      <th>1</th>\n",
              "      <td>2.3876</td>\n",
              "      <td>-9.5080</td>\n",
              "      <td>0.68389</td>\n",
              "      <td>0.085343</td>\n",
              "      <td>-0.83865</td>\n",
              "      <td>-0.68369</td>\n",
              "      <td>-8.6275</td>\n",
              "      <td>-4.3198</td>\n",
              "      <td>0.023595</td>\n",
              "      <td>-0.449020</td>\n",
              "      <td>-1.01030</td>\n",
              "      <td>0.034483</td>\n",
              "      <td>0</td>\n",
              "      <td>subject1</td>\n",
              "    </tr>\n",
              "    <tr>\n",
              "      <th>2</th>\n",
              "      <td>2.4086</td>\n",
              "      <td>-9.5674</td>\n",
              "      <td>0.68113</td>\n",
              "      <td>0.085343</td>\n",
              "      <td>-0.83865</td>\n",
              "      <td>-0.68369</td>\n",
              "      <td>-8.5055</td>\n",
              "      <td>-4.2772</td>\n",
              "      <td>0.275720</td>\n",
              "      <td>-0.449020</td>\n",
              "      <td>-1.01030</td>\n",
              "      <td>0.034483</td>\n",
              "      <td>0</td>\n",
              "      <td>subject1</td>\n",
              "    </tr>\n",
              "    <tr>\n",
              "      <th>3</th>\n",
              "      <td>2.1814</td>\n",
              "      <td>-9.4301</td>\n",
              "      <td>0.55031</td>\n",
              "      <td>0.085343</td>\n",
              "      <td>-0.83865</td>\n",
              "      <td>-0.68369</td>\n",
              "      <td>-8.6279</td>\n",
              "      <td>-4.3163</td>\n",
              "      <td>0.367520</td>\n",
              "      <td>-0.456860</td>\n",
              "      <td>-1.00820</td>\n",
              "      <td>0.025862</td>\n",
              "      <td>0</td>\n",
              "      <td>subject1</td>\n",
              "    </tr>\n",
              "    <tr>\n",
              "      <th>4</th>\n",
              "      <td>2.4173</td>\n",
              "      <td>-9.3889</td>\n",
              "      <td>0.71098</td>\n",
              "      <td>0.085343</td>\n",
              "      <td>-0.83865</td>\n",
              "      <td>-0.68369</td>\n",
              "      <td>-8.7008</td>\n",
              "      <td>-4.1459</td>\n",
              "      <td>0.407290</td>\n",
              "      <td>-0.456860</td>\n",
              "      <td>-1.00820</td>\n",
              "      <td>0.025862</td>\n",
              "      <td>0</td>\n",
              "      <td>subject1</td>\n",
              "    </tr>\n",
              "    <tr>\n",
              "      <th>...</th>\n",
              "      <td>...</td>\n",
              "      <td>...</td>\n",
              "      <td>...</td>\n",
              "      <td>...</td>\n",
              "      <td>...</td>\n",
              "      <td>...</td>\n",
              "      <td>...</td>\n",
              "      <td>...</td>\n",
              "      <td>...</td>\n",
              "      <td>...</td>\n",
              "      <td>...</td>\n",
              "      <td>...</td>\n",
              "      <td>...</td>\n",
              "      <td>...</td>\n",
              "    </tr>\n",
              "    <tr>\n",
              "      <th>98299</th>\n",
              "      <td>1.7849</td>\n",
              "      <td>-9.8287</td>\n",
              "      <td>0.29725</td>\n",
              "      <td>-0.341370</td>\n",
              "      <td>-0.90056</td>\n",
              "      <td>-0.61493</td>\n",
              "      <td>-3.7198</td>\n",
              "      <td>-8.9071</td>\n",
              "      <td>0.294230</td>\n",
              "      <td>0.041176</td>\n",
              "      <td>-0.99384</td>\n",
              "      <td>-0.480600</td>\n",
              "      <td>0</td>\n",
              "      <td>subject10</td>\n",
              "    </tr>\n",
              "    <tr>\n",
              "      <th>98300</th>\n",
              "      <td>1.8687</td>\n",
              "      <td>-9.8766</td>\n",
              "      <td>0.46236</td>\n",
              "      <td>-0.341370</td>\n",
              "      <td>-0.90056</td>\n",
              "      <td>-0.61493</td>\n",
              "      <td>-3.7160</td>\n",
              "      <td>-8.7455</td>\n",
              "      <td>0.448140</td>\n",
              "      <td>0.041176</td>\n",
              "      <td>-0.99384</td>\n",
              "      <td>-0.480600</td>\n",
              "      <td>0</td>\n",
              "      <td>subject10</td>\n",
              "    </tr>\n",
              "    <tr>\n",
              "      <th>98301</th>\n",
              "      <td>1.6928</td>\n",
              "      <td>-9.9290</td>\n",
              "      <td>0.16631</td>\n",
              "      <td>-0.341370</td>\n",
              "      <td>-0.90056</td>\n",
              "      <td>-0.61493</td>\n",
              "      <td>-3.8824</td>\n",
              "      <td>-9.1155</td>\n",
              "      <td>0.450480</td>\n",
              "      <td>0.041176</td>\n",
              "      <td>-0.99384</td>\n",
              "      <td>-0.480600</td>\n",
              "      <td>0</td>\n",
              "      <td>subject10</td>\n",
              "    </tr>\n",
              "    <tr>\n",
              "      <th>98302</th>\n",
              "      <td>1.5279</td>\n",
              "      <td>-9.6306</td>\n",
              "      <td>0.30458</td>\n",
              "      <td>-0.341370</td>\n",
              "      <td>-0.90056</td>\n",
              "      <td>-0.61493</td>\n",
              "      <td>-3.5564</td>\n",
              "      <td>-9.1441</td>\n",
              "      <td>0.594880</td>\n",
              "      <td>0.041176</td>\n",
              "      <td>-0.99384</td>\n",
              "      <td>-0.480600</td>\n",
              "      <td>0</td>\n",
              "      <td>subject10</td>\n",
              "    </tr>\n",
              "    <tr>\n",
              "      <th>98303</th>\n",
              "      <td>1.6614</td>\n",
              "      <td>-9.8398</td>\n",
              "      <td>0.18088</td>\n",
              "      <td>-0.332100</td>\n",
              "      <td>-0.90432</td>\n",
              "      <td>-0.61886</td>\n",
              "      <td>-3.9035</td>\n",
              "      <td>-8.9324</td>\n",
              "      <td>0.761710</td>\n",
              "      <td>0.035294</td>\n",
              "      <td>-1.02050</td>\n",
              "      <td>-0.471980</td>\n",
              "      <td>0</td>\n",
              "      <td>subject10</td>\n",
              "    </tr>\n",
              "  </tbody>\n",
              "</table>\n",
              "<p>1215745 rows × 14 columns</p>\n",
              "</div>"
            ],
            "text/plain": [
              "          alx     aly      alz  ...       grz  Activity    subject\n",
              "0      2.1849 -9.6967  0.63077  ...  0.034483         0   subject1\n",
              "1      2.3876 -9.5080  0.68389  ...  0.034483         0   subject1\n",
              "2      2.4086 -9.5674  0.68113  ...  0.034483         0   subject1\n",
              "3      2.1814 -9.4301  0.55031  ...  0.025862         0   subject1\n",
              "4      2.4173 -9.3889  0.71098  ...  0.025862         0   subject1\n",
              "...       ...     ...      ...  ...       ...       ...        ...\n",
              "98299  1.7849 -9.8287  0.29725  ... -0.480600         0  subject10\n",
              "98300  1.8687 -9.8766  0.46236  ... -0.480600         0  subject10\n",
              "98301  1.6928 -9.9290  0.16631  ... -0.480600         0  subject10\n",
              "98302  1.5279 -9.6306  0.30458  ... -0.480600         0  subject10\n",
              "98303  1.6614 -9.8398  0.18088  ... -0.471980         0  subject10\n",
              "\n",
              "[1215745 rows x 14 columns]"
            ]
          },
          "metadata": {
            "tags": []
          },
          "execution_count": 53
        }
      ]
    },
    {
      "cell_type": "code",
      "metadata": {
        "colab": {
          "base_uri": "https://localhost:8080/"
        },
        "id": "Ux8D2pTR33rd",
        "outputId": "b04da6e6-2329-45cf-e41f-ba07b5919764"
      },
      "source": [
        "df.Activity.value_counts()\r\n"
      ],
      "execution_count": 7,
      "outputs": [
        {
          "output_type": "execute_result",
          "data": {
            "text/plain": [
              "0     872550\n",
              "11     30720\n",
              "10     30720\n",
              "9      30720\n",
              "5      30720\n",
              "4      30720\n",
              "3      30720\n",
              "2      30720\n",
              "1      30720\n",
              "7      29441\n",
              "8      29337\n",
              "6      28315\n",
              "12     10342\n",
              "Name: Activity, dtype: int64"
            ]
          },
          "metadata": {
            "tags": []
          },
          "execution_count": 7
        }
      ]
    },
    {
      "cell_type": "code",
      "metadata": {
        "colab": {
          "base_uri": "https://localhost:8080/"
        },
        "id": "EH0wRWOb4bGY",
        "outputId": "c32919c3-4e3f-4b5a-fc39-a93e17f689c5"
      },
      "source": [
        "from sklearn.utils import resample\r\n",
        " \r\n",
        "df_majority = df[df.Activity==0]\r\n",
        "df_minorities = df[df.Activity!=0]\r\n",
        " \r\n",
        "df_majority_downsampled = resample(df_majority,n_samples=30000, random_state=42)\r\n",
        "df = pd.concat([df_majority_downsampled, df_minorities])\r\n",
        "df.Activity.value_counts()"
      ],
      "execution_count": 8,
      "outputs": [
        {
          "output_type": "execute_result",
          "data": {
            "text/plain": [
              "11    30720\n",
              "10    30720\n",
              "9     30720\n",
              "5     30720\n",
              "4     30720\n",
              "3     30720\n",
              "2     30720\n",
              "1     30720\n",
              "0     30000\n",
              "7     29441\n",
              "8     29337\n",
              "6     28315\n",
              "12    10342\n",
              "Name: Activity, dtype: int64"
            ]
          },
          "metadata": {
            "tags": []
          },
          "execution_count": 8
        }
      ]
    },
    {
      "cell_type": "code",
      "metadata": {
        "colab": {
          "base_uri": "https://localhost:8080/",
          "height": 622
        },
        "id": "RYJd4oNC4B5h",
        "outputId": "57eaa6f7-e707-4d5f-e828-7ebb24f47890"
      },
      "source": [
        "sns.countplot(x = 'Activity',\r\n",
        "              data = df,\r\n",
        "              order = df.Activity.value_counts().index);"
      ],
      "execution_count": 9,
      "outputs": [
        {
          "output_type": "display_data",
          "data": {
            "image/png": "[encoded data removed]",
            "text/plain": [
              "<Figure size 1584x720 with 1 Axes>"
            ]
          },
          "metadata": {
            "tags": [],
            "image/png": {
              "width": 1325,
              "height": 605
            }
          }
        }
      ]
    },
    {
      "cell_type": "code",
      "metadata": {
        "colab": {
          "base_uri": "https://localhost:8080/"
        },
        "id": "j1xp-VXa5DyO",
        "outputId": "190e51f9-b91d-4429-cd83-8e4c4529a7fb"
      },
      "source": [
        "df.shape"
      ],
      "execution_count": 10,
      "outputs": [
        {
          "output_type": "execute_result",
          "data": {
            "text/plain": [
              "(373195, 14)"
            ]
          },
          "metadata": {
            "tags": []
          },
          "execution_count": 10
        }
      ]
    },
    {
      "cell_type": "code",
      "metadata": {
        "id": "l6SpfQI05MW-"
      },
      "source": [
        "df.to_csv('/content/drive/MyDrive/mhealth_resampled_data.csv',index = False)"
      ],
      "execution_count": 11,
      "outputs": []
    }
  ]
}